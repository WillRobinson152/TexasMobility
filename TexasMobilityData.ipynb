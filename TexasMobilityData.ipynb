{
 "cells": [
  {
   "cell_type": "markdown",
   "id": "tropical-surrey",
   "metadata": {},
   "source": [
    "### Google community mobility reporting"
   ]
  },
  {
   "cell_type": "code",
   "execution_count": 1,
   "id": "thermal-winter",
   "metadata": {},
   "outputs": [],
   "source": [
    "import pandas as pd\n",
    "import requests, zipfile, io\n",
    "\n",
    "pd.options.mode.chained_assignment = None  # default='warn'"
   ]
  },
  {
   "cell_type": "code",
   "execution_count": 2,
   "id": "surgical-nickname",
   "metadata": {
    "scrolled": true
   },
   "outputs": [],
   "source": [
    "r = requests.get('https://www.gstatic.com/covid19/mobility/Region_Mobility_Report_CSVs.zip')\n",
    "z = zipfile.ZipFile(io.BytesIO(r.content))\n",
    "z.extractall(members=['2020_US_Region_Mobility_Report.csv'])"
   ]
  },
  {
   "cell_type": "code",
   "execution_count": 3,
   "id": "prescription-iceland",
   "metadata": {},
   "outputs": [
    {
     "name": "stderr",
     "output_type": "stream",
     "text": [
      "C:\\Users\\robin\\anaconda3\\lib\\site-packages\\IPython\\core\\interactiveshell.py:3165: DtypeWarning: Columns (5) have mixed types.Specify dtype option on import or set low_memory=False.\n",
      "  has_raised = await self.run_ast_nodes(code_ast.body, cell_name,\n"
     ]
    }
   ],
   "source": [
    "mobility = pd.read_csv('2020_US_Region_Mobility_Report.csv')"
   ]
  },
  {
   "cell_type": "code",
   "execution_count": 4,
   "id": "common-drinking",
   "metadata": {},
   "outputs": [],
   "source": [
    "texas = mobility[mobility.sub_region_1 == 'Texas']"
   ]
  },
  {
   "cell_type": "code",
   "execution_count": 5,
   "id": "positive-enemy",
   "metadata": {},
   "outputs": [],
   "source": [
    "texas['sub_region_2'] = texas.sub_region_2.str.replace(' County', '')"
   ]
  },
  {
   "cell_type": "code",
   "execution_count": 6,
   "id": "stunning-classic",
   "metadata": {},
   "outputs": [],
   "source": [
    "texas = texas[['sub_region_1','sub_region_2','date','retail_and_recreation_percent_change_from_baseline',\n",
    "              'grocery_and_pharmacy_percent_change_from_baseline',\n",
    "              'parks_percent_change_from_baseline', 'transit_stations_percent_change_from_baseline',\n",
    "              'workplaces_percent_change_from_baseline', 'residential_percent_change_from_baseline']]"
   ]
  },
  {
   "cell_type": "code",
   "execution_count": 7,
   "id": "abstract-pride",
   "metadata": {},
   "outputs": [],
   "source": [
    "texas.rename(columns={'sub_region_1':'State','sub_region_2':'County','date':'Date'},inplace=True)\n",
    "texas['County'] = texas.County.fillna('Statewide')\n",
    "texas['Date'] = pd.to_datetime(texas.Date)"
   ]
  },
  {
   "cell_type": "code",
   "execution_count": 8,
   "id": "verified-curtis",
   "metadata": {},
   "outputs": [],
   "source": [
    "texas.to_csv('MobilityCovid.csv')"
   ]
  },
  {
   "cell_type": "code",
   "execution_count": null,
   "id": "biological-indianapolis",
   "metadata": {},
   "outputs": [],
   "source": []
  }
 ],
 "metadata": {
  "kernelspec": {
   "display_name": "Python 3",
   "language": "python",
   "name": "python3"
  },
  "language_info": {
   "codemirror_mode": {
    "name": "ipython",
    "version": 3
   },
   "file_extension": ".py",
   "mimetype": "text/x-python",
   "name": "python",
   "nbconvert_exporter": "python",
   "pygments_lexer": "ipython3",
   "version": "3.8.8"
  }
 },
 "nbformat": 4,
 "nbformat_minor": 5
}
